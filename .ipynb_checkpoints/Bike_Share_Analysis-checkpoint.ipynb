{
 "cells": [
  {
   "cell_type": "markdown",
   "metadata": {},
   "source": [
    "# 2016 US Bike Share Activity Snapshot\n",
    "\n",
    "## Table of Contents\n",
    "- [Introduction](#intro)\n",
    "- [Posing Questions](#pose_questions)\n",
    "- [Data Collection and Wrangling](#wrangling)\n",
    "  - [Condensing the Trip Data](#condensing)\n",
    "- [Exploratory Data Analysis](#eda)\n",
    "  - [Statistics](#statistics)\n",
    "  - [Visualizations](#visualizations)\n",
    "- [Performing Your Own Analysis](#eda_continued)\n",
    "- [Conclusions](#conclusions)\n",
    "- [readme.txt](#resources)\n",
    "\n",
    "\n",
    "<a id='intro'></a>\n",
    "## Introduction\n",
    "\n",
    "> **Tip**: Quoted sections like this will provide helpful instructions on how to navigate and use a Jupyter notebook.\n",
    "\n",
    "Over the past decade, bicycle-sharing systems have been growing in number and popularity in cities across the world. Bicycle-sharing systems allow users to rent bicycles for short trips, typically 30 minutes or less. Thanks to the rise in information technologies, it is easy for a user of the system to access a dock within the system to unlock or return bicycles. These technologies also provide a wealth of data that can be used to explore how these bike-sharing systems are used.\n",
    "\n",
    "In this project, you will perform an exploratory analysis on data provided by [Motivate](https://www.motivateco.com/), a bike-share system provider for many major cities in the United States. You will compare the system usage between three large cities: New York City, Chicago, and Washington, DC. You will also see if there are any differences within each system for those users that are registered, regular users and those users that are short-term, casual users."
   ]
  },
  {
   "cell_type": "markdown",
   "metadata": {},
   "source": [
    "<a id='pose_questions'></a>\n",
    "## Posing Questions\n",
    "\n",
    "Before looking at the bike sharing data, you should start by asking questions you might want to understand about the bike share data. Consider, for example, if you were working for Motivate. What kinds of information would you want to know about in order to make smarter business decisions? If you were a user of the bike-share service, what factors might influence how you would want to use the service?\n",
    "\n",
    "**Question 1**: Write at least two questions related to bike sharing that you think could be answered by data.\n",
    "\n",
    "**Answer**: \n",
    "- Who is a typical user, based on factors such as age, income level, education and zip code?\n",
    "- What city is the most profitable and should be the target for greater expansion?\n",
    "\n",
    "> **Tip**: If you double click on this cell, you will see the text change so that all of the formatting is removed. This allows you to edit this block of text. This block of text is written using [Markdown](http://daringfireball.net/projects/markdown/syntax), which is a way to format text using headers, links, italics, and many other options using a plain-text syntax. You will also use Markdown later in the Nanodegree program. Use **Shift** + **Enter** or **Shift** + **Return** to run the cell and show its rendered form."
   ]
  },
  {
   "cell_type": "markdown",
   "metadata": {},
   "source": [
    "<a id='wrangling'></a>\n",
    "## Data Collection and Wrangling\n",
    "\n",
    "Now it's time to collect and explore our data. In this project, we will focus on the record of individual trips taken in 2016 from our selected cities: New York City, Chicago, and Washington, DC. Each of these cities has a page where we can freely download the trip data.:\n",
    "\n",
    "- New York City (Citi Bike): [Link](https://www.citibikenyc.com/system-data)\n",
    "- Chicago (Divvy): [Link](https://www.divvybikes.com/system-data)\n",
    "- Washington, DC (Capital Bikeshare): [Link](https://www.capitalbikeshare.com/system-data)\n",
    "\n",
    "If you visit these pages, you will notice that each city has a different way of delivering its data. Chicago updates with new data twice a year, Washington DC is quarterly, and New York City is monthly. **However, you do not need to download the data yourself.** The data has already been collected for you in the `/data/` folder of the project files. While the original data for 2016 is spread among multiple files for each city, the files in the `/data/` folder collect all of the trip data for the year into one file per city. Some data wrangling of inconsistencies in timestamp format within each city has already been performed for you. In addition, a random 2% sample of the original data is taken to make the exploration more manageable. \n",
    "\n",
    "**Question 2**: However, there is still a lot of data for us to investigate, so it's a good idea to start off by looking at one entry from each of the cities we're going to analyze. Run the first code cell below to load some packages and functions that you'll be using in your analysis. Then, complete the second code cell to print out the first trip recorded from each of the cities (the second line of each data file).\n",
    "\n",
    "> **Tip**: You can run a code cell like you formatted Markdown cells above by clicking on the cell and using the keyboard shortcut **Shift** + **Enter** or **Shift** + **Return**. Alternatively, a code cell can be executed using the **Play** button in the toolbar after selecting it. While the cell is running, you will see an asterisk in the message to the left of the cell, i.e. `In [*]:`. The asterisk will change into a number to show that execution has completed, e.g. `In [1]`. If there is output, it will show up as `Out [1]:`, with an appropriate number to match the \"In\" number."
   ]
  },
  {
   "cell_type": "code",
   "execution_count": 1,
   "metadata": {
    "collapsed": true
   },
   "outputs": [],
   "source": [
    "## import all necessary packages and functions.\n",
    "import csv # read and write csv files\n",
    "from datetime import datetime, date # operations to parse dates\n",
    "from pprint import pprint # use to print data structures like dictionaries in\n",
    "                          # a nicer way than the base print function.\n",
    "import calendar # retrieves the weekday strings\n",
    "import matplotlib.pyplot as plt"
   ]
  },
  {
   "cell_type": "code",
   "execution_count": 2,
   "metadata": {},
   "outputs": [
    {
     "name": "stdout",
     "output_type": "stream",
     "text": [
      "\n",
      "City: NYC\n",
      "OrderedDict([('tripduration', '839'),\n",
      "             ('starttime', '1/1/2016 00:09:55'),\n",
      "             ('stoptime', '1/1/2016 00:23:54'),\n",
      "             ('start station id', '532'),\n",
      "             ('start station name', 'S 5 Pl & S 4 St'),\n",
      "             ('start station latitude', '40.710451'),\n",
      "             ('start station longitude', '-73.960876'),\n",
      "             ('end station id', '401'),\n",
      "             ('end station name', 'Allen St & Rivington St'),\n",
      "             ('end station latitude', '40.72019576'),\n",
      "             ('end station longitude', '-73.98997825'),\n",
      "             ('bikeid', '17109'),\n",
      "             ('usertype', 'Customer'),\n",
      "             ('birth year', ''),\n",
      "             ('gender', '0')])\n",
      "\n",
      "City: Chicago\n",
      "OrderedDict([('trip_id', '9080545'),\n",
      "             ('starttime', '3/31/2016 23:30'),\n",
      "             ('stoptime', '3/31/2016 23:46'),\n",
      "             ('bikeid', '2295'),\n",
      "             ('tripduration', '926'),\n",
      "             ('from_station_id', '156'),\n",
      "             ('from_station_name', 'Clark St & Wellington Ave'),\n",
      "             ('to_station_id', '166'),\n",
      "             ('to_station_name', 'Ashland Ave & Wrightwood Ave'),\n",
      "             ('usertype', 'Subscriber'),\n",
      "             ('gender', 'Male'),\n",
      "             ('birthyear', '1990')])\n",
      "\n",
      "City: Washington\n",
      "OrderedDict([('Duration (ms)', '427387'),\n",
      "             ('Start date', '3/31/2016 22:57'),\n",
      "             ('End date', '3/31/2016 23:04'),\n",
      "             ('Start station number', '31602'),\n",
      "             ('Start station', 'Park Rd & Holmead Pl NW'),\n",
      "             ('End station number', '31207'),\n",
      "             ('End station', 'Georgia Ave and Fairmont St NW'),\n",
      "             ('Bike number', 'W20842'),\n",
      "             ('Member Type', 'Registered')])\n"
     ]
    }
   ],
   "source": [
    "def print_first_point(filename):\n",
    "    \"\"\"\n",
    "    This function prints and returns the first data point (second row) from\n",
    "    a csv file that includes a header row.\n",
    "    \"\"\"\n",
    "    # print city name for reference\n",
    "    city = filename.split('-')[0].split('/')[-1]\n",
    "    print('\\nCity: {}'.format(city))\n",
    "    \n",
    "    with open(filename, 'r') as f_in:\n",
    "        ## TODO: Use the csv library to set up a DictReader object. ##\n",
    "        ## see https://docs.python.org/3/library/csv.html           ##\n",
    "        trip_reader = csv.DictReader(f_in)\n",
    "        \n",
    "        ## TODO: Use a function on the DictReader object to read the     ##\n",
    "        ## first trip from the data file and store it in a variable.     ##\n",
    "        ## see https://docs.python.org/3/library/csv.html#reader-objects ##\n",
    "        def getfirstrow(d_reader_object):\n",
    "            for row in d_reader_object:\n",
    "                row\n",
    "                break\n",
    "            return row\n",
    "        first_trip = getfirstrow(trip_reader)\n",
    "        \n",
    "        ## TODO: Use the pprint library to print the first trip. ##\n",
    "        ## see https://docs.python.org/3/library/pprint.html     ##\n",
    "        pprint(first_trip)\n",
    "        \n",
    "    # output city name and first trip for later testing\n",
    "    return (city, first_trip)\n",
    "\n",
    "# list of files for each city\n",
    "data_files = ['./data/NYC-CitiBike-2016.csv',\n",
    "              './data/Chicago-Divvy-2016.csv',\n",
    "              './data/Washington-CapitalBikeshare-2016.csv']\n",
    "\n",
    "# print the first trip from each file, store in dictionary\n",
    "example_trips = {}\n",
    "for data_file in data_files:\n",
    "    city, first_trip = print_first_point(data_file)\n",
    "    example_trips[city] = first_trip"
   ]
  },
  {
   "cell_type": "markdown",
   "metadata": {},
   "source": [
    "If everything has been filled out correctly, you should see below the printout of each city name (which has been parsed from the data file name) that the first trip has been parsed in the form of a dictionary. When you set up a `DictReader` object, the first row of the data file is normally interpreted as column names. Every other row in the data file will use those column names as keys, as a dictionary is generated for each row.\n",
    "\n",
    "This will be useful since we can refer to quantities by an easily-understandable label instead of just a numeric index. For example, if we have a trip stored in the variable `row`, then we would rather get the trip duration from `row['duration']` instead of `row[0]`.\n",
    "\n",
    "<a id='condensing'></a>\n",
    "### Condensing the Trip Data\n",
    "\n",
    "It should also be observable from the above printout that each city provides different information. Even where the information is the same, the column names and formats are sometimes different. To make things as simple as possible when we get to the actual exploration, we should trim and clean the data. Cleaning the data makes sure that the data formats across the cities are consistent, while trimming focuses only on the parts of the data we are most interested in to make the exploration easier to work with.\n",
    "\n",
    "You will generate new data files with five values of interest for each trip: trip duration, starting month, starting hour, day of the week, and user type. Each of these may require additional wrangling depending on the city:\n",
    "\n",
    "- **Duration**: This has been given to us in seconds (New York, Chicago) or milliseconds (Washington). A more natural unit of analysis will be if all the trip durations are given in terms of minutes.\n",
    "- **Month**, **Hour**, **Day of Week**: Ridership volume is likely to change based on the season, time of day, and whether it is a weekday or weekend. Use the start time of the trip to obtain these values. The New York City data includes the seconds in their timestamps, while Washington and Chicago do not. The [`datetime`](https://docs.python.org/3/library/datetime.html) package will be very useful here to make the needed conversions.\n",
    "- **User Type**: It is possible that users who are subscribed to a bike-share system will have different patterns of use compared to users who only have temporary passes. Washington divides its users into two types: 'Registered' for users with annual, monthly, and other longer-term subscriptions, and 'Casual', for users with 24-hour, 3-day, and other short-term passes. The New York and Chicago data uses 'Subscriber' and 'Customer' for these groups, respectively. For consistency, you will convert the Washington labels to match the other two. It also turns out that there are some trips in the New York city dataset that do not have an attached user type. Since we don't have enough information to fill these values in, just leave them as-is for now.\n",
    "\n",
    "\n",
    "**Question 3a**: Complete the helper functions in the code cells below to address each of the cleaning tasks described above."
   ]
  },
  {
   "cell_type": "code",
   "execution_count": 3,
   "metadata": {
    "collapsed": true
   },
   "outputs": [],
   "source": [
    "def duration_in_mins(datum, city):\n",
    "    \"\"\"\n",
    "    Takes as input a dictionary containing info about a single trip (datum) and\n",
    "    its origin city (city) and returns the trip duration in units of minutes.\n",
    "    \n",
    "    Remember that Washington is in terms of milliseconds while Chicago and NYC\n",
    "    are in terms of seconds. \n",
    "    \n",
    "    HINT: The csv module reads in all of the data as strings, including numeric\n",
    "    values. You will need a function to convert the strings into an appropriate\n",
    "    numeric type when making your transformations.\n",
    "    see https://docs.python.org/3/library/functions.html\n",
    "    \"\"\"\n",
    "    \n",
    "    # YOUR CODE HERE\n",
    "    if city == 'NYC':\n",
    "    # transform sec to mins\n",
    "        duration = float(datum['tripduration'])/60\n",
    "    elif city == 'Washington':\n",
    "        # transform milliseconds to mins\n",
    "        duration = float(datum['Duration (ms)'])/1000/60\n",
    "    elif city == 'Chicago':\n",
    "                # transform sec to mins\n",
    "        duration = float(datum['tripduration'])/60    \n",
    "    return duration\n",
    "\n",
    "\n",
    "# Some tests to check that your code works. There should be no output if all of\n",
    "# the assertions pass. The `example_trips` dictionary was obtained from when\n",
    "# you printed the first trip from each of the original data files.\n",
    "tests = {'NYC': 13.9833,\n",
    "         'Chicago': 15.4333,\n",
    "         'Washington': 7.1231}\n",
    "\n",
    "for city in tests:\n",
    "    assert abs(duration_in_mins(example_trips[city], city) - tests[city]) < .001\n"
   ]
  },
  {
   "cell_type": "code",
   "execution_count": 4,
   "metadata": {
    "collapsed": true
   },
   "outputs": [],
   "source": [
    "def time_of_trip(datum, city):\n",
    "    \"\"\"\n",
    "    Takes as input a dictionary containing info about a single trip (datum) and\n",
    "    its origin city (city) and returns the month, hour, and day of the week in\n",
    "    which the trip was made.\n",
    "    \n",
    "    Remember that NYC includes seconds, while Washington and Chicago do not.\n",
    "    \n",
    "    HINT: You should use the datetime module to parse the original date\n",
    "    strings into a format that is useful for extracting the desired information.\n",
    "    see https://docs.python.org/3/library/datetime.html#strftime-and-strptime-behavior\n",
    "    \"\"\"\n",
    "    \n",
    "    # YOUR CODE HERE\n",
    "    if city == 'NYC':\n",
    "        # retrieve starting time\n",
    "        converter = datum['starttime']\n",
    "        # format time as month, day, year, hour, min using datetime library\n",
    "        date = datetime.strptime(converter,'%m/%d/%Y %H:%M:%S')\n",
    "        # retrieve weekday using calendar library\n",
    "        day_of_week = calendar.day_name[date.weekday()]\n",
    "        # get month number\n",
    "        month = date.month\n",
    "        # get hour as integer\n",
    "        hour = date.hour\n",
    "    elif city == 'Washington':\n",
    "        # retrieve starting time\n",
    "        converter = datum['Start date']\n",
    "        # format time as month, day, year, hour, min using datetime library\n",
    "        date = datetime.strptime(converter,'%m/%d/%Y %H:%M')\n",
    "        # retrieve weekday using calendar library\n",
    "        day_of_week = calendar.day_name[date.weekday()]\n",
    "        # get month number\n",
    "        month = date.month\n",
    "        # get hour as integer\n",
    "        hour = date.hour\n",
    "    elif city == 'Chicago':\n",
    "        # retrieve starting time\n",
    "        converter = datum['starttime']\n",
    "        # format time as month, day, year, hour, min using datetime library\n",
    "        date = datetime.strptime(converter,'%m/%d/%Y %H:%M')\n",
    "        # retrieve weekday using calendar library\n",
    "        day_of_week = calendar.day_name[date.weekday()]\n",
    "        # get month number\n",
    "        month = date.month\n",
    "        # get hour as integer\n",
    "        hour = date.hour\n",
    "        \n",
    "    \n",
    "    return (month, hour, day_of_week)\n",
    "\n",
    "\n",
    "# Some tests to check that your code works. There should be no output if all of\n",
    "# the assertions pass. The `example_trips` dictionary was obtained from when\n",
    "# you printed the first trip from each of the original data files.\n",
    "tests = {'NYC': (1, 0, 'Friday'),\n",
    "         'Chicago': (3, 23, 'Thursday'),\n",
    "         'Washington': (3, 22, 'Thursday')}\n",
    "\n",
    "for city in tests:\n",
    "    assert time_of_trip(example_trips[city], city) == tests[city]"
   ]
  },
  {
   "cell_type": "code",
   "execution_count": 5,
   "metadata": {
    "collapsed": true
   },
   "outputs": [],
   "source": [
    "def type_of_user(datum, city):\n",
    "    \"\"\"\n",
    "    Takes as input a dictionary containing info about a single trip (datum) and\n",
    "    its origin city (city) and returns the type of system user that made the\n",
    "    trip.\n",
    "    \n",
    "    Remember that Washington has different category names compared to Chicago\n",
    "    and NYC. NYC has some data points with a missing user type; you can leave\n",
    "    these as they are (empty string).\n",
    "    \"\"\"\n",
    "    \n",
    "    # YOUR CODE HERE\n",
    "    if city == 'Washington':\n",
    "    # convert WA user type to the appropiate string\n",
    "        if datum['Member Type'] == 'Registered':\n",
    "            datum['Member Type'] = 'Subscriber'\n",
    "        elif datum['Member Type'] == 'Casual':\n",
    "            datum['Member Type'] = 'Customer'\n",
    "        user_type = datum['Member Type']\n",
    "    # NYC and Chicago have the correct user type name.\n",
    "    else:\n",
    "        user_type = datum['usertype']\n",
    "   \n",
    "    return user_type\n",
    "\n",
    "\n",
    "# Some tests to check that your code works. There should be no output if all of\n",
    "# the assertions pass. The `example_trips` dictionary was obtained from when\n",
    "# you printed the first trip from each of the original data files.\n",
    "tests = {'NYC': 'Customer',\n",
    "         'Chicago': 'Subscriber',\n",
    "         'Washington': 'Subscriber'}\n",
    "\n",
    "for city in tests:\n",
    "    assert type_of_user(example_trips[city], city) == tests[city]"
   ]
  },
  {
   "cell_type": "markdown",
   "metadata": {},
   "source": [
    "**Question 3b**: Now, use the helper functions you wrote above to create a condensed data file for each city consisting only of the data fields indicated above. In the `/examples/` folder, you will see an example datafile from the [Bay Area Bike Share](http://www.bayareabikeshare.com/open-data) before and after conversion. Make sure that your output is formatted to be consistent with the example file."
   ]
  },
  {
   "cell_type": "code",
   "execution_count": 6,
   "metadata": {
    "collapsed": true
   },
   "outputs": [],
   "source": [
    "def condense_data(in_file, out_file, city):\n",
    "    \"\"\"\n",
    "    This function takes full data from the specified input file\n",
    "    and writes the condensed data to a specified output file. The city\n",
    "    argument determines how the input file will be parsed.\n",
    "    \n",
    "    HINT: See the cell below to see how the arguments are structured!\n",
    "    \"\"\"\n",
    "    \n",
    "    with open(out_file, 'w', newline='') as f_out, open(in_file, 'r') as f_in:\n",
    "        # set up csv DictWriter object - writer requires column names for the\n",
    "        # first row as the \"fieldnames\" argument\n",
    "        out_colnames = ['duration', 'month', 'hour', 'day_of_week', 'user_type']        \n",
    "        trip_writer = csv.DictWriter(f_out, fieldnames = out_colnames)\n",
    "        trip_writer.writeheader()\n",
    "        \n",
    "        ## TODO: set up csv DictReader object ##\n",
    "        trip_reader = csv.DictReader(f_in)\n",
    "        \n",
    "        # collect data from and process each row\n",
    "        for row in trip_reader:\n",
    "            # set up a dictionary to hold the values for the cleaned and trimmed\n",
    "            # data point\n",
    "            new_point = {}\n",
    "\n",
    "            ## TODO: use the helper functions to get the cleaned data from  ##\n",
    "            ## the original data dictionaries.                              ##\n",
    "            ## Note that the keys for the new_point dictionary should match ##\n",
    "            ## the column names set in the DictWriter object above.         ##\n",
    "            #use duration_in_mins fuction\n",
    "            duration = duration_in_mins(row, city)\n",
    "            \n",
    "            #use time_of_trip function\n",
    "            month, hour, day_of_week = time_of_trip(row, city)\n",
    "            \n",
    "            #use user_type function\n",
    "            user_type = type_of_user(row, city)\n",
    "            \n",
    "            #add each item into new_point dictionary\n",
    "            new_point['duration'] = duration\n",
    "            new_point['month'] = month\n",
    "            new_point['hour'] = hour\n",
    "            new_point['day_of_week'] = day_of_week\n",
    "            new_point['user_type'] = user_type\n",
    "\n",
    "\n",
    "\n",
    "            ## TODO: write the processed information to the output file.     ##\n",
    "            ## see https://docs.python.org/3/library/csv.html#writer-objects ##\n",
    "            trip_writer.writerow(new_point)        \n",
    "            \n",
    "            "
   ]
  },
  {
   "cell_type": "code",
   "execution_count": 7,
   "metadata": {},
   "outputs": [
    {
     "name": "stdout",
     "output_type": "stream",
     "text": [
      "\n",
      "City: Washington\n",
      "OrderedDict([('duration', '7.123116666666666'),\n",
      "             ('month', '3'),\n",
      "             ('hour', '22'),\n",
      "             ('day_of_week', 'Thursday'),\n",
      "             ('user_type', 'Subscriber')])\n",
      "\n",
      "City: Chicago\n",
      "OrderedDict([('duration', '15.433333333333334'),\n",
      "             ('month', '3'),\n",
      "             ('hour', '23'),\n",
      "             ('day_of_week', 'Thursday'),\n",
      "             ('user_type', 'Subscriber')])\n",
      "\n",
      "City: NYC\n",
      "OrderedDict([('duration', '13.983333333333333'),\n",
      "             ('month', '1'),\n",
      "             ('hour', '0'),\n",
      "             ('day_of_week', 'Friday'),\n",
      "             ('user_type', 'Customer')])\n"
     ]
    }
   ],
   "source": [
    "# Run this cell to check your work\n",
    "city_info = {'Washington': {'in_file': './data/Washington-CapitalBikeshare-2016.csv',\n",
    "                            'out_file': './data/Washington-2016-Summary.csv'},\n",
    "             'Chicago': {'in_file': './data/Chicago-Divvy-2016.csv',\n",
    "                         'out_file': './data/Chicago-2016-Summary.csv'},\n",
    "             'NYC': {'in_file': './data/NYC-CitiBike-2016.csv',\n",
    "                     'out_file': './data/NYC-2016-Summary.csv'}}\n",
    "\n",
    "for city, filenames in city_info.items():\n",
    "    condense_data(filenames['in_file'], filenames['out_file'], city)\n",
    "    print_first_point(filenames['out_file'])"
   ]
  },
  {
   "cell_type": "markdown",
   "metadata": {},
   "source": [
    "> **Tip**: If you save a jupyter Notebook, the output from running code blocks will also be saved. However, the state of your workspace will be reset once a new session is started. Make sure that you run all of the necessary code blocks from your previous session to reestablish variables and functions before picking up where you last left off.\n",
    "\n",
    "<a id='eda'></a>\n",
    "## Exploratory Data Analysis\n",
    "\n",
    "Now that you have the data collected and wrangled, you're ready to start exploring the data. In this section you will write some code to compute descriptive statistics from the data. You will also be introduced to the `matplotlib` library to create some basic histograms of the data.\n",
    "\n",
    "<a id='statistics'></a>\n",
    "### Statistics\n",
    "\n",
    "First, let's compute some basic counts. The first cell below contains a function that uses the csv module to iterate through a provided data file, returning the number of trips made by subscribers and customers. The second cell runs this function on the example Bay Area data in the `/examples/` folder. Modify the cells to answer the question below.\n",
    "\n",
    "**Question 4a**: Which city has the highest number of trips? Which city has the highest proportion of trips made by subscribers? Which city has the highest proportion of trips made by short-term customers?\n",
    "\n",
    "\n",
    "**Answer**: \n",
    "- __With 276,081 trips, NYC has the highest number.__\n",
    "- __NYC has 245896 trips, which is the city with the highest proportion of trips made by subscribers at 89%.__\n",
    "- __Chicago had the highest proportion of trips made by short-term customers at 23%.__"
   ]
  },
  {
   "cell_type": "code",
   "execution_count": 8,
   "metadata": {
    "collapsed": true
   },
   "outputs": [],
   "source": [
    "def number_of_trips(filename):\n",
    "    \"\"\"\n",
    "    This function reads in a file with trip data and reports the number of\n",
    "    trips made by subscribers, customers, and total overall.\n",
    "    \"\"\"\n",
    "    with open(filename, 'r') as f_in:\n",
    "        # set up csv reader object\n",
    "        reader = csv.DictReader(f_in)\n",
    "        \n",
    "        # initialize count variables\n",
    "        n_subscribers = 0\n",
    "        n_customers = 0\n",
    "        \n",
    "        # tally up ride types\n",
    "        for row in reader:\n",
    "            if row['user_type'] == 'Subscriber':\n",
    "                n_subscribers += 1\n",
    "            elif row['user_type'] == 'Customer':\n",
    "                n_customers += 1\n",
    "        \n",
    "        # compute total number of rides\n",
    "        n_total = n_subscribers + n_customers\n",
    "        \n",
    "        # return tallies as a tuple\n",
    "        return(n_subscribers, n_customers, n_total)"
   ]
  },
  {
   "cell_type": "code",
   "execution_count": 9,
   "metadata": {},
   "outputs": [
    {
     "name": "stdout",
     "output_type": "stream",
     "text": [
      "NYC\n",
      "Proportion of Number of trips for short-term customers: 10%.\n",
      "Proportion of Number of trips for Subscribers: 89%.\n",
      "(245896, 30185, 276081)\n",
      "Chicago\n",
      "Proportion of Number of trips for short-term customers: 23%.\n",
      "Proportion of Number of trips for Subscribers: 76%.\n",
      "(54982, 17149, 72131)\n",
      "Washington\n",
      "Proportion of Number of trips for short-term customers: 21%.\n",
      "Proportion of Number of trips for Subscribers: 78%.\n",
      "(51753, 14573, 66326)\n"
     ]
    }
   ],
   "source": [
    "## Modify this and the previous cell to answer Question 4a. Remember to run ##\n",
    "## the function on the cleaned data files you created from Question 3.      ##\n",
    "\n",
    "\n",
    "data_files = ['./data/NYC-2016-Summary.csv',\n",
    "              './data/Chicago-2016-Summary.csv',\n",
    "              './data/Washington-2016-Summary.csv']\n",
    "\n",
    "# print the first trip from each file, store in dictionary\n",
    "\n",
    "for data_file in data_files:\n",
    "    city = data_file.split('-')[0].split('/')[-1]\n",
    "    print(city)\n",
    "    # run the number of trips function & assign it to the \"a\" variable\n",
    "    a = number_of_trips(data_file)\n",
    "    # (Subscriber, Customer, total count)\n",
    "    print(\"Proportion of Number of trips for short-term customers: {}%.\"\n",
    "          .format(int(a[1]/a[2]*100)))\n",
    "    print(\"Proportion of Number of trips for Subscribers: {}%.\"\n",
    "          .format(int(a[0]/a[2]*100)))\n",
    "    print(a)\n",
    "    "
   ]
  },
  {
   "cell_type": "markdown",
   "metadata": {},
   "source": [
    "> **Tip**: In order to add additional cells to a notebook, you can use the \"Insert Cell Above\" and \"Insert Cell Below\" options from the menu bar above. There is also an icon in the toolbar for adding new cells, with additional icons for moving the cells up and down the document. By default, new cells are of the code type; you can also specify the cell type (e.g. Code or Markdown) of selected cells from the Cell menu or the dropdown in the toolbar.\n",
    "\n",
    "Now, you will write your own code to continue investigating properties of the data.\n",
    "\n",
    "**Question 4b**: Bike-share systems are designed for riders to take short trips. Most of the time, users are allowed to take trips of 30 minutes or less with no additional charges, with overage charges made for trips of longer than that duration. What is the average trip length for each city? What proportion of rides made in each city are longer than 30 minutes?\n",
    "\n",
    "**Answer**: \n",
    "\n",
    "\n",
    "__NYC__\n",
    "Average trip 15 mins from total number of trips 276,798. Trips over 30 mins and its proportion 20,213, 7.3%\n",
    "\n",
    "__Chicago__\n",
    "Average trip 16 mins from total number of trips 72,131. Trips over 30 mins and its proportion 6,010, 8.3%\n",
    "\n",
    "__Washington__\n",
    "Average trip 18 mins from total number of trips 66,326. Trips over 30 mins and its proportion 7,189, 10.8%\n",
    "\n",
    "__BayArea__\n",
    "Average trip 14 mins from total number of trips 6,299. Trips over 30 mins and its proportion 222, 3.5%"
   ]
  },
  {
   "cell_type": "code",
   "execution_count": 10,
   "metadata": {
    "scrolled": true
   },
   "outputs": [
    {
     "name": "stdout",
     "output_type": "stream",
     "text": [
      "NYC\n",
      "Average trip 15 mins from total number of trips 276798. Trips over 30 mins and its proportion 20213, 7.3%\n",
      "Chicago\n",
      "Average trip 16 mins from total number of trips 72131. Trips over 30 mins and its proportion 6010, 8.3%\n",
      "Washington\n",
      "Average trip 18 mins from total number of trips 66326. Trips over 30 mins and its proportion 7189, 10.8%\n",
      "BayArea\n",
      "Average trip 14 mins from total number of trips 6299. Trips over 30 mins and its proportion 222, 3.5%\n"
     ]
    }
   ],
   "source": [
    "## Use this and additional cells to answer Question 4b.                 ##\n",
    "##                                                                      ##\n",
    "## HINT: The csv module reads in all of the data as strings, including  ##\n",
    "## numeric values. You will need a function to convert the strings      ##\n",
    "## into an appropriate numeric type before you aggregate data.          ##\n",
    "## TIP: For the Bay Area example, the average trip length is 14 minutes ##\n",
    "## and 3.5% of trips are longer than 30 minutes.                        ##\n",
    "\n",
    "def average_trip(filename, minutenum):\n",
    "    # find the average trip lengh \n",
    "    \n",
    "     with open(filename, 'r') as f_in:\n",
    "            \n",
    "        # set up csv reader object\n",
    "        reader = csv.DictReader(f_in)\n",
    "        \n",
    "        # initialize count variables\n",
    "        n_subscribers = 0\n",
    "        count = 0\n",
    "        trips = 0\n",
    "        tripsoverxmins = 0\n",
    "        \n",
    "        # tally up ride types\n",
    "        for row in reader:\n",
    "            if row['duration']:\n",
    "                trips += float(row['duration'])\n",
    "            n_subscribers += 1\n",
    "            count += 1\n",
    "            \n",
    "            if float(row['duration']) > minutenum:\n",
    "                tripsoverxmins += 1\n",
    "        # get the average trip time     \n",
    "        average = trips/count\n",
    "        \n",
    "        # get proportion as a percent from minutenum value\n",
    "        proportionofxtrips = format(float(100* (tripsoverxmins/count)),'.1f')\n",
    "        \n",
    "        return (\"Average trip {} mins from total number of trips {}. Trips over {} mins and its proportion {}, {}%\"\n",
    "                .format(int(average),count, minutenum,tripsoverxmins,proportionofxtrips))\n",
    "    \n",
    "# Data list containing each city summary\n",
    "data_files = ['./data/NYC-2016-Summary.csv',\n",
    "              './data/Chicago-2016-Summary.csv',\n",
    "              './data/Washington-2016-Summary.csv',\n",
    "             './examples/BayArea-Y3-Summary.csv']\n",
    "\n",
    "\n",
    "for data_file in data_files:\n",
    "    # print city name\n",
    "    city = data_file.split('-')[0].split('/')[-1]\n",
    "    print(city)\n",
    "    # run average_trip program and select trips over 30 mins\n",
    "    print(average_trip(data_file,30))\n",
    "    "
   ]
  },
  {
   "cell_type": "markdown",
   "metadata": {},
   "source": [
    "**Question 4c**: Dig deeper into the question of trip duration based on ridership. Choose one city. Within that city, which type of user takes longer rides on average: Subscribers or Customers?\n",
    "\n",
    "**Answer**: \n",
    "On average, Customers take longer trips at 33 mins per ride.\n",
    "\n",
    "__NYC__\n",
    "\n",
    "Group: __Subscriber__, Average trip 13.7 mins, Total number of trips 245,896, Trips over 30mins and its proportion 13,131, 5.3%\n",
    "\n",
    "Group: __Customer__, Average trip 33.0 mins, Total number of trips 30,185, Trips over 30mins and its proportion 6,965, 23.1%"
   ]
  },
  {
   "cell_type": "code",
   "execution_count": 11,
   "metadata": {},
   "outputs": [
    {
     "name": "stdout",
     "output_type": "stream",
     "text": [
      "NYC\n",
      "Group: Subscriber, Average trip 13.7 mins, Total number of trips 245896, Trips over 30 mins and its proportion 13131, 5.3%\n",
      "Group: Customer, Average trip 33.0 mins, Total number of trips 30185, Trips over 30 mins and its proportion 6965, 23.1%\n",
      "Chicago\n",
      "Group: Subscriber, Average trip 12.1 mins, Total number of trips 54982, Trips over 30 mins and its proportion 1176, 2.1%\n",
      "Group: Customer, Average trip 31.0 mins, Total number of trips 17149, Trips over 30 mins and its proportion 4834, 28.2%\n",
      "Washington\n",
      "Group: Subscriber, Average trip 12.5 mins, Total number of trips 51753, Trips over 30 mins and its proportion 1504, 2.9%\n",
      "Group: Customer, Average trip 41.7 mins, Total number of trips 14573, Trips over 30 mins and its proportion 5685, 39.0%\n",
      "BayArea\n",
      "Group: Subscriber, Average trip 9.5 mins, Total number of trips 5666, Trips over 30 mins and its proportion 33, 0.6%\n",
      "Group: Customer, Average trip 54.6 mins, Total number of trips 633, Trips over 30 mins and its proportion 189, 29.9%\n"
     ]
    }
   ],
   "source": [
    "# actual\n",
    "## Use this and additional cells to answer Question 4b.                 ##\n",
    "##                                                                      ##\n",
    "## HINT: The csv module reads in all of the data as strings, including  ##\n",
    "## numeric values. You will need a function to convert the strings      ##\n",
    "## into an appropriate numeric type before you aggregate data.          ##\n",
    "## TIP: For the Bay Area example, the average trip length is 14 minutes ##\n",
    "## and 3.5% of trips are longer than 30 minutes.                        ##\n",
    "\n",
    "def average_trip_deep(filename,minutenum, group):\n",
    "    \n",
    "     with open(filename, 'r') as f_in:\n",
    "            \n",
    "        # set up csv reader object\n",
    "        reader = csv.DictReader(f_in)\n",
    "        \n",
    "        # initialize count variables\n",
    "        n_subscribers = 0\n",
    "        count = 0\n",
    "        trips = 0\n",
    "        tripsoverxmins = 0\n",
    "        \n",
    "        # tally up ride types\n",
    "        for row in reader:\n",
    "            # select group value subscriber or customer\n",
    "            if row['user_type'] == group:\n",
    "\n",
    "                if row['duration']:\n",
    "                    trips += float(row['duration'])\n",
    "                n_subscribers += 1\n",
    "                count += 1\n",
    "            # count each iteration when minutenum is true\n",
    "                if float(row['duration']) > minutenum:\n",
    "                    tripsoverxmins += 1\n",
    "            \n",
    "        average = format(float(trips/count),'.1f')\n",
    "        proportionofxmintrips = format(float(100* (tripsoverxmins/count)),'.1f')\n",
    "        \n",
    "        return (\"Group: {}, Average trip {} mins, Total number of trips {}, Trips over {} mins and its proportion {}, {}%\".\n",
    "                format(group,average,count, minutenum,tripsoverxmins,proportionofxmintrips))\n",
    "    \n",
    "data_files = {'./data/NYC-2016-Summary.csv':{'group1':'Subscriber','group2':'Customer'},\n",
    "              './data/Chicago-2016-Summary.csv':{'group1':'Subscriber','group2':'Customer'},\n",
    "              './data/Washington-2016-Summary.csv':{'group1':'Subscriber','group2':'Customer'},\n",
    "             './examples/BayArea-Y3-Summary.csv':{'group1':'Subscriber','group2':'Customer'}}\n",
    "\n",
    "# print the output for each group based on the nested data_files dictionary\n",
    "for data_file, group in data_files.items():\n",
    "    # pull city value\n",
    "    city = data_file.split('-')[0].split('/')[-1]\n",
    "    # get data for subscriber group\n",
    "    subscriber = average_trip_deep(data_file,30,group['group1'])\n",
    "    # get data for customer group\n",
    "    customer = average_trip_deep(data_file,30,group['group2'])\n",
    "    \n",
    "    print(city)\n",
    "    print(subscriber)\n",
    "    print(customer)\n",
    "    \n"
   ]
  },
  {
   "cell_type": "markdown",
   "metadata": {},
   "source": [
    "<a id='visualizations'></a>\n",
    "### Visualizations\n",
    "\n",
    "The last set of values that you computed should have pulled up an interesting result. While the mean trip time for Subscribers is well under 30 minutes, the mean trip time for Customers is actually _above_ 30 minutes! It will be interesting for us to look at how the trip times are distributed. In order to do this, a new library will be introduced here, `matplotlib`. Run the cell below to load the library and to generate an example plot."
   ]
  },
  {
   "cell_type": "code",
   "execution_count": 12,
   "metadata": {},
   "outputs": [
    {
     "data": {
      "image/png": "[encoded data removed]",
      "text/plain": [
       "<matplotlib.figure.Figure at 0x24ee6d69240>"
      ]
     },
     "metadata": {},
     "output_type": "display_data"
    }
   ],
   "source": [
    "# load library\n",
    "import matplotlib.pyplot as plt\n",
    "import numpy as np\n",
    "\n",
    "# this is a 'magic word' that allows for plots to be displayed\n",
    "# inline with the notebook. If you want to know more, see:\n",
    "# http://ipython.readthedocs.io/en/stable/interactive/magics.html\n",
    "%matplotlib inline \n",
    "\n",
    "# example histogram, data taken from bay area sample\n",
    "data = [ 7.65,  8.92,  7.42,  5.50, 16.17,  4.20,  8.98,  9.62, 11.48, 14.33,\n",
    "        19.02, 21.53,  3.90,  7.97,  2.62,  2.67,  3.08, 14.40, 12.90,  7.83,\n",
    "        25.12,  8.30,  4.93, 12.43, 10.60,  6.17, 10.88,  4.78, 15.15,  3.53,\n",
    "         9.43, 13.32, 11.72,  9.85,  5.22, 15.10,  3.95,  3.17,  8.78,  1.88,\n",
    "         4.55, 12.68, 12.38,  9.78,  7.63,  6.45, 17.38, 11.90, 11.52,  8.63,]\n",
    "plt.hist(data)\n",
    "plt.title('Distribution of Trip Durations')\n",
    "plt.xlabel('Duration (m)')\n",
    "\n",
    "plt.show()"
   ]
  },
  {
   "cell_type": "markdown",
   "metadata": {},
   "source": [
    "In the above cell, we collected fifty trip times in a list, and passed this list as the first argument to the `.hist()` function. This function performs the computations and creates plotting objects for generating a histogram, but the plot is actually not rendered until the `.show()` function is executed. The `.title()` and `.xlabel()` functions provide some labeling for plot context.\n",
    "\n",
    "You will now use these functions to create a histogram of the trip times for the city you selected in question 4c. Don't separate the Subscribers and Customers for now: just collect all of the trip times and plot them."
   ]
  },
  {
   "cell_type": "code",
   "execution_count": 13,
   "metadata": {},
   "outputs": [
    {
     "name": "stdout",
     "output_type": "stream",
     "text": [
      "NYC\n",
      "Customer & Subscriber data: 276798\n"
     ]
    },
    {
     "data": {
      "image/png": "[encoded data removed]",
      "text/plain": [
       "<matplotlib.figure.Figure at 0x24eea7d6da0>"
      ]
     },
     "metadata": {},
     "output_type": "display_data"
    },
    {
     "name": "stdout",
     "output_type": "stream",
     "text": [
      "Customer: 30185\n"
     ]
    },
    {
     "data": {
      "image/png": "[encoded data removed]",
      "text/plain": [
       "<matplotlib.figure.Figure at 0x24eeb976898>"
      ]
     },
     "metadata": {},
     "output_type": "display_data"
    },
    {
     "name": "stdout",
     "output_type": "stream",
     "text": [
      "Subscriber: 245896\n"
     ]
    },
    {
     "data": {
      "image/png": "[encoded data removed]",
      "text/plain": [
       "<matplotlib.figure.Figure at 0x24eeb96c630>"
      ]
     },
     "metadata": {},
     "output_type": "display_data"
    }
   ],
   "source": [
    "## Use this and additional cells to collect all of the trip times as a list ##\n",
    "## and then use pyplot functions to generate a histogram of trip times.     ##\n",
    "import numpy as np\n",
    "\n",
    "def data_collector(datafile, limitmins=50000):\n",
    "    # get data based on a minute limit (limitmins)\n",
    "    with open(datafile,'r') as file:       \n",
    "        #read csv file\n",
    "        reader = csv.DictReader(file)\n",
    "        count = 0\n",
    "        # setup the empty lists\n",
    "        datapoints = []\n",
    "        datapoints_customer = []\n",
    "        datapoints_subscriber = []\n",
    "        nullusertype = []\n",
    "        #read each record\n",
    "        for row in reader:\n",
    "            # data read must be less than the assigned limitmins variable\n",
    "            if row['duration'] and float(row['duration']) < limitmins:\n",
    "                row['duration'] = float(row['duration'])              \n",
    "                datapoints.append(row['duration'])\n",
    "                # data for subscriber datalist\n",
    "                if row['user_type'] == 'Subscriber':\n",
    "                    datapoints_subscriber.append(row['duration'])\n",
    "                # data for customer list\n",
    "                if row['user_type'] == 'Customer':\n",
    "                    datapoints_customer.append(row['duration'])\n",
    "                # collect data on user type with null values\n",
    "                if row['user_type'] is '':\n",
    "                    nullusertype.append(row['duration'])\n",
    "        # collect item count for each list\n",
    "        alldps = len(datapoints)\n",
    "        cusdps = len(datapoints_customer)\n",
    "        subsdps = len(datapoints_subscriber)\n",
    "        nulldps = len(nullusertype)\n",
    "\n",
    "        \n",
    "        return datapoints, datapoints_customer, datapoints_subscriber, nullusertype, cusdps, subsdps, alldps\n",
    "\n",
    "# variable for choosen city\n",
    "data_files = ['./data/NYC-2016-Summary.csv']\n",
    "\n",
    "def mappme(datapoints):\n",
    "    # collect each data set and create a barchart\n",
    "    %matplotlib inline\n",
    "    plt.hist(datapoints)\n",
    "    plt.title('Distribution of Trip Durations')\n",
    "    plt.xlabel('Duration (m)')\n",
    "    plt.show()\n",
    "\n",
    "for data_file in data_files:\n",
    "    # get city name\n",
    "    city = data_file.split('-')[0].split('/')[-1]\n",
    "    print(city)\n",
    "    # run data_collector data function for each group\n",
    "    totaldps, customer, subscriber, nulls, customercount, subscribercount, combined = data_collector(data_file)\n",
    "    print(\"Customer & Subscriber data: {}\".format(combined))\n",
    "    mappme(totaldps)\n",
    "    print(\"Customer: {}\".format(customercount))\n",
    "    mappme(customer)\n",
    "    print(\"Subscriber: {}\".format(subscribercount))\n",
    "    mappme(subscriber)\n",
    "    "
   ]
  },
  {
   "cell_type": "markdown",
   "metadata": {},
   "source": [
    "If you followed the use of the `.hist()` and `.show()` functions exactly like in the example, you're probably looking at a plot that's completely unexpected. The plot consists of one extremely tall bar on the left, maybe a very short second bar, and a whole lot of empty space in the center and right. Take a look at the duration values on the x-axis. This suggests that there are some highly infrequent outliers in the data. Instead of reprocessing the data, you will use additional parameters with the `.hist()` function to limit the range of data that is plotted. Documentation for the function can be found [[here]](https://matplotlib.org/devdocs/api/_as_gen/matplotlib.pyplot.hist.html#matplotlib.pyplot.hist).\n",
    "\n",
    "**Question 5**: Use the parameters of the `.hist()` function to plot the distribution of trip times for the Subscribers in your selected city. Do the same thing for only the Customers. Add limits to the plots so that only trips of duration less than 75 minutes are plotted. As a bonus, set the plots up so that bars are in five-minute wide intervals. For each group, where is the peak of each distribution? How would you describe the shape of each distribution?\n",
    "\n",
    "**Answer**:\n",
    "NYC\n",
    "\n",
    "- __Customer & Subscriber data count:__ 274856\n",
    "- Most common bikeride duration occurred at 5 mins with 18770 occurrences.\n",
    "_both data sets formed a skewed right distribution_\n",
    "\n",
    "\n",
    "- __Customer count:__ 28899\n",
    "- Most common bikeride duration occurred at 19 mins with 1124 occurrences.\n",
    "_the shape of this graph looks more like a normal distribution_\n",
    "\n",
    "\n",
    "- __Subscriber count:__ 245252\n",
    "- Most common bikeride duration occurred at 5 mins with 18286 occurrences.\n",
    "_the subscriber shape is similar to a positively skewed distribution_"
   ]
  },
  {
   "cell_type": "code",
   "execution_count": 14,
   "metadata": {
    "collapsed": true
   },
   "outputs": [],
   "source": [
    "## Use this and additional cells to answer Question 5. ##\n",
    "def mostcommonoccurrance(data):\n",
    "    #find the most common by minute occurrance\n",
    "    dictionary = {}\n",
    "    for item in data:\n",
    "        # conver each minute value into an integer\n",
    "        item = int(item)\n",
    "        # count how many iterations per minute\n",
    "        if item not in dictionary:\n",
    "            dictionary[item] = 1\n",
    "        else:\n",
    "            dictionary[item] += 1\n",
    "    counter = 0\n",
    "    # read dictionary and retrieve the key with the highest count value\n",
    "    for key, value in dictionary.items():\n",
    "        if value > counter:\n",
    "            counter = value\n",
    "            keyitem = key\n",
    "\n",
    "    return keyitem, counter\n",
    "\n",
    "# modify mappme function to retrieve most common occurrance\n",
    "def mappme(datapoints):\n",
    "    # collect each data set and create a barchart\n",
    "    %matplotlib inline\n",
    "    plt.hist(datapoints, range= (0,75))\n",
    "    plt.title('Distribution of Trip Durations')\n",
    "    plt.xlabel('Duration (m)')\n",
    "    print(\"Most common bikeride duration occurred at {} mins with {} occurrences.\".\n",
    "          format(mostcommonoccurrance(datapoints)[0],mostcommonoccurrance(datapoints)[1]))\n",
    "    plt.grid()\n",
    "    plt.show()"
   ]
  },
  {
   "cell_type": "code",
   "execution_count": 15,
   "metadata": {},
   "outputs": [
    {
     "name": "stdout",
     "output_type": "stream",
     "text": [
      "NYC\n",
      "Customer & Subscriber data count: 274856\n",
      "Most common bikeride duration occurred at 5 mins with 18770 occurrences.\n"
     ]
    },
    {
     "data": {
      "image/png": "[encoded data removed]",
      "text/plain": [
       "<matplotlib.figure.Figure at 0x24eea762fd0>"
      ]
     },
     "metadata": {},
     "output_type": "display_data"
    },
    {
     "name": "stdout",
     "output_type": "stream",
     "text": [
      "Customer count: 28899\n",
      "Most common bikeride duration occurred at 19 mins with 1124 occurrences.\n"
     ]
    },
    {
     "data": {
      "image/png": "[encoded data removed]",
      "text/plain": [
       "<matplotlib.figure.Figure at 0x24eeba4fdd8>"
      ]
     },
     "metadata": {},
     "output_type": "display_data"
    },
    {
     "name": "stdout",
     "output_type": "stream",
     "text": [
      "Subscriber count: 245252\n",
      "Most common bikeride duration occurred at 5 mins with 18286 occurrences.\n"
     ]
    },
    {
     "data": {
      "image/png": "[encoded data removed]",
      "text/plain": [
       "<matplotlib.figure.Figure at 0x24eea668588>"
      ]
     },
     "metadata": {},
     "output_type": "display_data"
    }
   ],
   "source": [
    "# build function to run the data collector based on x mins\n",
    "\n",
    "def minutelimit(mins):\n",
    "    for data_file in data_files:\n",
    "        # get city name\n",
    "        city = data_file.split('-')[0].split('/')[-1]\n",
    "        print(city)\n",
    "        totaldps, customer, subscriber, nulls, customercount, subscribercount, combined = data_collector(data_file, mins)\n",
    "        print(\"Customer & Subscriber data count: {}\".format(combined))\n",
    "        mappme(totaldps)\n",
    "        print(\"Customer count: {}\".format(customercount))\n",
    "        mappme(customer)\n",
    "        print(\"Subscriber count: {}\".format(subscribercount))\n",
    "        mappme(subscriber)\n",
    "minutelimit(75)"
   ]
  },
  {
   "cell_type": "markdown",
   "metadata": {
    "collapsed": true
   },
   "source": [
    "<a id='eda_continued'></a>\n",
    "## Performing Your Own Analysis\n",
    "\n",
    "So far, you've performed an initial exploration into the data available. You have compared the relative volume of trips made between three U.S. cities and the ratio of trips made by Subscribers and Customers. For one of these cities, you have investigated differences between Subscribers and Customers in terms of how long a typical trip lasts. Now it is your turn to continue the exploration in a direction that you choose. Here are a few suggestions for questions to explore:\n",
    "\n",
    "- How does ridership differ by month or season? Which month / season has the highest ridership? Does the ratio of Subscriber trips to Customer trips change depending on the month or season?\n",
    "- Is the pattern of ridership different on the weekends versus weekdays? On what days are Subscribers most likely to use the system? What about Customers? Does the average duration of rides change depending on the day of the week?\n",
    "- During what time of day is the system used the most? Is there a difference in usage patterns for Subscribers and Customers?\n",
    "\n",
    "If any of the questions you posed in your answer to question 1 align with the bullet points above, this is a good opportunity to investigate one of them. As part of your investigation, you will need to create a visualization. If you want to create something other than a histogram, then you might want to consult the [Pyplot documentation](https://matplotlib.org/devdocs/api/pyplot_summary.html). In particular, if you are plotting values across a categorical variable (e.g. city, user type), a bar chart will be useful. The [documentation page for `.bar()`](https://matplotlib.org/devdocs/api/_as_gen/matplotlib.pyplot.bar.html#matplotlib.pyplot.bar) includes links at the bottom of the page with examples for you to build off of for your own use.\n",
    "\n",
    "**Question 6**: Continue the investigation by exploring another question that could be answered by the data available. Document the question you want to explore below. Your investigation should involve at least two variables and should compare at least two groups. You should also use at least one visualization as part of your explorations.\n",
    "\n",
    "**Answer**: \n",
    "August, September, and October are the busiest months of the year. In general the subscriber group uses the service most often compared to the customer user type. For instance during the busiest month of the year, September (Subscribers: 28306, Customers: 4393) the subscriber group surpased the customer group 6 to 1. The average annual ratio is 10 to 1 or for every 10 subscribers there was 1 customer. Also the ridership tends to decrease for both groups towards the end and beginning of the year. In other words, during the coldest months of the year, there are fewer users compared to the sunny summer months.\n"
   ]
  },
  {
   "cell_type": "code",
   "execution_count": 16,
   "metadata": {},
   "outputs": [
    {
     "data": {
      "text/plain": [
       "{1: {'Customer': 488, 'Subscriber': 9692, 'all': 10180},\n",
       " 2: {'Customer': 569, 'Subscriber': 10601, 'all': 11170},\n",
       " 3: {'Customer': 1878, 'Subscriber': 16535, 'all': 18413},\n",
       " 4: {'Customer': 2632, 'Subscriber': 17528, 'all': 20160},\n",
       " 5: {'Customer': 3209, 'Subscriber': 21246, 'all': 24455},\n",
       " 6: {'Customer': 3136, 'Subscriber': 26106, 'all': 29242},\n",
       " 7: {'Customer': 3977, 'Subscriber': 23545, 'all': 27522},\n",
       " 8: {'Customer': 4412, 'Subscriber': 26692, 'all': 31104},\n",
       " 9: {'Customer': 4393, 'Subscriber': 28306, 'all': 32699},\n",
       " 10: {'Customer': 3006, 'Subscriber': 28139, 'all': 31519},\n",
       " 11: {'Customer': 1799, 'Subscriber': 22109, 'all': 24148},\n",
       " 12: {'Customer': 686, 'Subscriber': 15397, 'all': 16186}}"
      ]
     },
     "execution_count": 16,
     "metadata": {},
     "output_type": "execute_result"
    }
   ],
   "source": [
    "## Use this and additional cells to continue to explore the dataset. ##\n",
    "## Once you have performed your exploration, document your findings  ##\n",
    "## in the Markdown cell above.                                       ##\n",
    "def attribute_analyser(data, mon, user='all'):\n",
    "    # function will count the items in each row based on the data attribute,\n",
    "    with open('./data/NYC-2016-Summary.csv','r') as file:\n",
    "        # Create reader to read each row\n",
    "        reader = csv.DictReader(file)\n",
    "        count = 0       \n",
    "        for row in reader:\n",
    "            #conver month value into an integer  \n",
    "            row[data] = int(row[data])\n",
    "            #follow this path if you want the count for both subscriber and customer\n",
    "            if user == 'all':\n",
    "                if row[data] == mon:\n",
    "                    count += 1            \n",
    "            else:\n",
    "                if row[data] == mon and row['user_type'] == user:\n",
    "                    count += 1                   \n",
    "    return mon, count\n",
    "\n",
    "def nestedvalues(month_int):\n",
    "    # function will build a nested dictionary that will include customer, subscriber and month data counts\n",
    "    d = {}\n",
    "    for mon in month_int:\n",
    "        allval = attribute_analyser('month',mon)\n",
    "        subscriber = attribute_analyser('month',mon,'Subscriber')\n",
    "        customer = attribute_analyser('month',mon,'Customer')\n",
    "        d[mon] = {}\n",
    "        d[mon]['Subscriber'] = subscriber[1]\n",
    "        d[mon]['Customer'] = customer[1]\n",
    "        d[mon]['all'] = allval[1]\n",
    "    return d\n",
    "answer = nestedvalues([1,2,3,4,5,6,7,8,9,10,11,12])    \n",
    "answer"
   ]
  },
  {
   "cell_type": "code",
   "execution_count": 17,
   "metadata": {},
   "outputs": [
    {
     "name": "stdout",
     "output_type": "stream",
     "text": [
      "ratios for each month: [19, 18, 8, 6, 6, 8, 5, 6, 6, 9, 12, 22]\n",
      "Subscribers to Customers average annual ratio: 10 to 1\n",
      "The busiest month had 28306 subscriber riders\n"
     ]
    },
    {
     "data": {
      "image/png": "[encoded data removed]",
      "text/plain": [
       "<matplotlib.figure.Figure at 0x24eeae48128>"
      ]
     },
     "metadata": {},
     "output_type": "display_data"
    }
   ],
   "source": [
    "# set up the empty list for each group\n",
    "customer = []\n",
    "subscriber= []\n",
    "months = []\n",
    "ratios = []\n",
    "\n",
    "# create a list for each group.\n",
    "for key, value in answer.items():\n",
    "    months.append(key)\n",
    "    subscriber.append(value['Subscriber'])\n",
    "    customer.append(value['Customer'])\n",
    "    # find out the ratios and add them to the ratios list.\n",
    "    ratios.append(int(value['Subscriber']/value['Customer']))\n",
    "#print the ratio per month and the average annual ratio.\n",
    "print(\"ratios for each month: {}\".format(ratios))\n",
    "print(\"Subscribers to Customers average annual ratio: {} to 1\".format(int(sum(ratios)/len(ratios))))\n",
    "\n",
    "\n",
    "# Graph based on Sebastian Raschka's Matplotlib tutorial\n",
    "# http://nbviewer.jupyter.org/github/rasbt/matplotlib-gallery/blob/master/ipynb/barplots.ipynb#Sections\n",
    "print(\"The busiest month had {} subscriber riders\".format(max(subscriber)))\n",
    "\n",
    "\n",
    "pos = list(range(len(subscriber)))\n",
    "width = 0.4\n",
    "\n",
    "# #creating plot bars\n",
    "fig, ax = plt.subplots(figsize = (8,6))\n",
    "\n",
    "plt.bar(pos, subscriber, width, alpha=0.5,color='g',label = months[0])\n",
    "plt.bar([p + width for p in pos],customer,width,alpha=0.5,color='b',label=months[1])\n",
    "\n",
    "#setting axis labels and ticks\n",
    "ax.set_ylabel('number of rides')\n",
    "ax.set_title('Customer and Subscriber rides from January to December')\n",
    "ax.set_xlabel('Months of the year [1-12]')\n",
    "ax.set_xticks([p + 1.5 * width for p in pos])\n",
    "#setting month labels on the x - axis\n",
    "ax.set_xticklabels(months)\n",
    "\n",
    "#Setting the x-axis and y-axis limits\n",
    "plt.xlim(min(pos)-width, max(pos)+width*4)\n",
    "plt.ylim([0, max(subscriber + customer) * 1.5])\n",
    "\n",
    "#Adding the legend and showing the plot\n",
    "plt.legend(['Subscriber','Customer'], loc = 'upper right')\n",
    "plt.grid()\n",
    "plt.show()\n",
    "\n",
    "# pos"
   ]
  },
  {
   "cell_type": "markdown",
   "metadata": {},
   "source": [
    "<a id='conclusions'></a>\n",
    "## Conclusions\n",
    "\n",
    "Congratulations on completing the project! This is only a sampling of the data analysis process: from generating questions, wrangling the data, and to exploring the data. Normally, at this point in the data analysis process, you might want to draw conclusions about the data by performing a statistical test or fitting the data to a model for making predictions. There are also a lot of potential analyses that could be performed on the data which are not possible with only the data provided. For example, detailed location data has not been investigated. Where are the most commonly used docks? What are the most common routes? As another example, weather has potential to have a large impact on daily ridership. How much is ridership impacted when there is rain or snow? Are subscribers or customers affected more by changes in weather?\n",
    "\n",
    "**Question 7**: Putting the bike share data aside, think of a topic or field of interest where you would like to be able to apply the techniques of data science. What would you like to be able to learn from your chosen subject?\n",
    "\n",
    "**Answer**: \n",
    "I would like to learn how much time recent college grads spend looking for a job. It'll be interesting if we can divide each group by profession or college degree and age group. \n",
    "\n",
    "I think the age, location, school name among other factors will have a big impact on an individual during his/her job search.\n",
    "\n",
    "> **Tip**: If we want to share the results of our analysis with others, we aren't limited to giving them a copy of the jupyter Notebook (.ipynb) file. We can also export the Notebook output in a form that can be opened even for those without Python installed. From the **File** menu in the upper left, go to the **Download as** submenu. You can then choose a different format that can be viewed more generally, such as HTML (.html) or\n",
    "PDF (.pdf). You may need additional packages or software to perform these exports."
   ]
  },
  {
   "cell_type": "markdown",
   "metadata": {
    "collapsed": true
   },
   "source": [
    "<a id='resources'></a>\n",
    "## Resources\n",
    "\n",
    "Above graph is based on Sebastian Raschka's Matplotlib tutorial\n",
    "http://nbviewer.jupyter.org/github/rasbt/matplotlib-gallery/blob/master/ipynb/barplots.ipynb#Sections"
   ]
  },
  {
   "cell_type": "code",
   "execution_count": null,
   "metadata": {
    "collapsed": true
   },
   "outputs": [],
   "source": []
  }
 ],
 "metadata": {
  "anaconda-cloud": {},
  "kernelspec": {
   "display_name": "Python 3",
   "language": "python",
   "name": "python3"
  },
  "language_info": {
   "codemirror_mode": {
    "name": "ipython",
    "version": 3
   },
   "file_extension": ".py",
   "mimetype": "text/x-python",
   "name": "python",
   "nbconvert_exporter": "python",
   "pygments_lexer": "ipython3",
   "version": "3.6.3"
  }
 },
 "nbformat": 4,
 "nbformat_minor": 1
}
